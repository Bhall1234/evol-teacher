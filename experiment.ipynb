{
 "cells": [
  {
   "cell_type": "code",
   "execution_count": 6,
   "metadata": {},
   "outputs": [],
   "source": [
    "import os\n",
    "import random\n",
    "import numpy as np\n",
    "import tqdm\n",
    "from rouge_score import rouge_scorer\n",
    "import utils\n",
    "import torch\n",
    "import transformers\n",
    "from torch.utils.data import Dataset\n",
    "import openai\n",
    "from dotenv import load_dotenv"
   ]
  },
  {
   "cell_type": "code",
   "execution_count": 3,
   "metadata": {},
   "outputs": [],
   "source": [
    "load_dotenv(override=True)\n",
    "openai.api_key = os.getenv(\"OPENAI_API_KEY\")"
   ]
  },
  {
   "cell_type": "code",
   "execution_count": 7,
   "metadata": {},
   "outputs": [],
   "source": [
    "seed_task = {\n",
    "    \"instruction\": \"Write a Python program to compute the sum of integers from k to n.\", \n",
    "    \"output\": \"def sum(k, n):\\n    sum = 0\\n    for i in range(k, n+1):\\n        sum += i\\n    return sum\"\n",
    "}"
   ]
  },
  {
   "cell_type": "code",
   "execution_count": 5,
   "metadata": {},
   "outputs": [],
   "source": [
    "methods = [\n",
    "    'Add new constraints and requirements to the original problem, adding approximately 10 additional words.',\n",
    "    'Replace a commonly used requirement in the programming task with a less common and more specific one.',\n",
    "    'If the original problem can be solved with only a few logical steps, please add more reasoning steps.',\n",
    "    'Provide a piece of erroneous code as a reference to increase misdirection.',\n",
    "    'Propose higher time or space complexity requirements, but please refrain from doing so frequently.'\n",
    "]"
   ]
  },
  {
   "attachments": {},
   "cell_type": "markdown",
   "metadata": {},
   "source": [
    "#### Step 1. Evolve Instruction\n",
    "\n",
    "Let's evolve the initial instruction with a randomly chosen evolution method"
   ]
  },
  {
   "cell_type": "code",
   "execution_count": 8,
   "metadata": {},
   "outputs": [],
   "source": [
    "chosen_method = random.choice(methods)\n",
    "prompt_template = f\"Please increase the difficulty of the given programming test question a bit.\\n\\nYou can increase the difficulty using, but not limited to, the following methods:\\n{chosen_method}\\n\\n{seed_task['instruction']}\"\n",
    "\n",
    "completion = openai.ChatCompletion.create(\n",
    "  model=\"gpt-3.5-turbo\",\n",
    "  messages=[\n",
    "    {\"role\": \"user\", \"content\": prompt_template}\n",
    "  ]\n",
    ")"
   ]
  },
  {
   "cell_type": "code",
   "execution_count": 11,
   "metadata": {},
   "outputs": [
    {
     "name": "stdout",
     "output_type": "stream",
     "text": [
      "PROMPT: Please increase the difficulty of the given programming test question a bit.\n",
      "\n",
      "You can increase the difficulty using, but not limited to, the following methods:\n",
      "Propose higher time or space complexity requirements, but please refrain from doing so frequently.\n",
      "\n",
      "Write a Python program to compute the sum of integers from k to n.\n",
      "RESPONSE: Write a Python program to compute the sum of all odd integers from k to n.\n"
     ]
    }
   ],
   "source": [
    "print(f'PROMPT: {prompt_template}')\n",
    "print(f'RESPONSE: {completion.choices[0].message.content}')"
   ]
  },
  {
   "attachments": {},
   "cell_type": "markdown",
   "metadata": {},
   "source": [
    "#### Step 2. Generate a response\n",
    "\n",
    "Now let's generate a response for the evolved instruction"
   ]
  },
  {
   "cell_type": "code",
   "execution_count": 12,
   "metadata": {},
   "outputs": [],
   "source": [
    "response = openai.ChatCompletion.create(\n",
    "  model=\"gpt-3.5-turbo\",\n",
    "  messages=[\n",
    "    {\"role\": \"user\", \"content\": completion.choices[0].message.content}\n",
    "  ]\n",
    ")"
   ]
  },
  {
   "cell_type": "code",
   "execution_count": 13,
   "metadata": {},
   "outputs": [
    {
     "name": "stdout",
     "output_type": "stream",
     "text": [
      "Here is a Python program that computes the sum of all odd integers from k to n:\n",
      "\n",
      "```python\n",
      "def sum_of_odd_integers(k, n):\n",
      "    total = 0\n",
      "    for num in range(k, n + 1):\n",
      "        if num % 2 != 0:  # check if the number is odd\n",
      "            total += num\n",
      "    return total\n",
      "\n",
      "# Example usage\n",
      "k = 1\n",
      "n = 10\n",
      "print(\"Sum of odd integers from\", k, \"to\", n, \"is:\", sum_of_odd_integers(k, n))\n",
      "```\n",
      "\n",
      "Output:\n",
      "```\n",
      "Sum of odd integers from 1 to 10 is: 25\n",
      "```\n",
      "\n",
      "In the above program, the `sum_of_odd_integers` function takes two parameters `k` and `n`, which represent the range of integers to be considered. It initializes `total` to 0, and then iterates through each number from `k` to `n`. If the number is odd (i.e., not divisible by 2), it adds it to the `total`. Finally, it returns the `total` as the sum of all odd integers in the range.\n"
     ]
    }
   ],
   "source": [
    "print(response.choices[0].message.content)"
   ]
  },
  {
   "cell_type": "code",
   "execution_count": 15,
   "metadata": {},
   "outputs": [],
   "source": [
    "evolved_instruction1 = {\n",
    "    \"instruction\": completion.choices[0].message.content,\n",
    "    \"output\": response.choices[0].message.content\n",
    "}"
   ]
  },
  {
   "attachments": {},
   "cell_type": "markdown",
   "metadata": {},
   "source": [
    "#### Step 3. Evaluate that the evolved instruction has information gain\n",
    "\n",
    "Now let's evaluate the instruction to make sure it is providing information gain"
   ]
  },
  {
   "cell_type": "code",
   "execution_count": 23,
   "metadata": {},
   "outputs": [],
   "source": [
    "evaluation_prompt = f'Here are two Instructions to ChatGPT AI, do you think they are equal to each other, which meet the following requirements:\\n1. They have the same constraints and requirements.\\n2. They have the same depth and breadth\\nThe First Prompt: {seed_task[\"instruction\"]}\\nThe Second Prompt: {evolved_instruction1[\"instruction\"]}\\nYour Judgement (Just answer: Equal or Not Equal. No need to explain the reason):'\n",
    "\n",
    "evaluation = openai.ChatCompletion.create(\n",
    "  model=\"gpt-3.5-turbo\",\n",
    "  messages=[\n",
    "    {\"role\": \"user\", \"content\": evaluation_prompt}\n",
    "  ]\n",
    ")\n"
   ]
  },
  {
   "cell_type": "code",
   "execution_count": 24,
   "metadata": {},
   "outputs": [
    {
     "name": "stdout",
     "output_type": "stream",
     "text": [
      "Not equal.\n"
     ]
    }
   ],
   "source": [
    "evaluation = evaluation.choices[0].message.content\n",
    "print(evaluation)"
   ]
  },
  {
   "attachments": {},
   "cell_type": "markdown",
   "metadata": {},
   "source": [
    "#### Step 4. Evolving the previous instruction\n",
    "\n",
    "Now we're going to repeat the previous step this time starting with the evolution"
   ]
  },
  {
   "cell_type": "code",
   "execution_count": 25,
   "metadata": {},
   "outputs": [],
   "source": [
    "chosen_method2 = random.choice(methods)\n",
    "prompt_template2 = f\"Please increase the difficulty of the given programming test question a bit.\\n\\nYou can increase the difficulty using, but not limited to, the following methods:\\n{chosen_method2}\\n\\n{evolved_instruction1['instruction']}\"\n",
    "\n",
    "completion2 = openai.ChatCompletion.create(\n",
    "  model=\"gpt-3.5-turbo\",\n",
    "  messages=[\n",
    "    {\"role\": \"user\", \"content\": prompt_template2}\n",
    "  ]\n",
    ")\n",
    "completion2 = completion2.choices[0].message.content"
   ]
  },
  {
   "cell_type": "code",
   "execution_count": 27,
   "metadata": {},
   "outputs": [
    {
     "name": "stdout",
     "output_type": "stream",
     "text": [
      "Please increase the difficulty of the given programming test question a bit.\n",
      "\n",
      "You can increase the difficulty using, but not limited to, the following methods:\n",
      "Provide a piece of erroneous code as a reference to increase misdirection.\n",
      "\n",
      "Write a Python program to compute the sum of all odd integers from k to n.\n",
      "Write a Python program to compute the sum of all odd integers from k to n. However, do not use any loops or conditional statements (if, elif, else) in your solution. You can only use mathematical operations and built-in functions.\n"
     ]
    }
   ],
   "source": [
    "print(prompt_template2)\n",
    "print(completion2)"
   ]
  },
  {
   "cell_type": "code",
   "execution_count": 28,
   "metadata": {},
   "outputs": [],
   "source": [
    "# Now generate the response\n",
    "response2 = openai.ChatCompletion.create(\n",
    "  model=\"gpt-3.5-turbo\",\n",
    "  messages=[\n",
    "    {\"role\": \"user\", \"content\": completion2}\n",
    "  ]\n",
    ")\n",
    "response2 = response2.choices[0].message.content"
   ]
  },
  {
   "cell_type": "code",
   "execution_count": 29,
   "metadata": {},
   "outputs": [
    {
     "name": "stdout",
     "output_type": "stream",
     "text": [
      "Write a Python program to compute the sum of all odd integers from k to n. However, do not use any loops or conditional statements (if, elif, else) in your solution. You can only use mathematical operations and built-in functions.\n",
      "To compute the sum of all odd integers from `k` to `n` without using any loops or conditional statements, we can make use of the mathematical properties of arithmetic series.\n",
      "\n",
      "The mathematical formula to compute the sum of an arithmetic series is:\n",
      "\n",
      "```\n",
      "sum = (n / 2) * (first_term + last_term)\n",
      "```\n",
      "\n",
      "Since we want to sum only odd integers, we can skip the even numbers by adjusting the values of `k` and `n` as follows:\n",
      "- If `k` is even, we increment it by 1 to make it odd.\n",
      "- If `n` is even, we decrement it by 1 to make it odd.\n",
      "\n",
      "Here's the Python code to solve the problem:\n",
      "\n",
      "```python\n",
      "def sum_of_odd_integers(k, n):\n",
      "    if k % 2 == 0:\n",
      "        k += 1\n",
      "    if n % 2 == 0:\n",
      "        n -= 1\n",
      "\n",
      "    num_terms = (n - k) // 2 + 1\n",
      "    sum = num_terms * (k + n) // 2\n",
      "    return sum\n",
      "\n",
      "# Example usage\n",
      "k = 3\n",
      "n = 10\n",
      "result = sum_of_odd_integers(k, n)\n",
      "print(f\"The sum of odd integers from {k} to {n} is: {result}\")\n",
      "```\n",
      "\n",
      "Output:\n",
      "```\n",
      "The sum of odd integers from 3 to 10 is: 24\n",
      "```\n",
      "\n",
      "In this code, we first check if `k` is even and increment it by 1 if it is. Similarly, we check if `n` is even and decrement it by 1 if it is.\n",
      "\n",
      "Next, we calculate the number of terms in the series by dividing the difference between `n` and `k` by 2 and adding 1. Then, we compute the sum using the formula mentioned above.\n",
      "\n",
      "Finally, we return the computed sum.\n"
     ]
    }
   ],
   "source": [
    "print(completion2)\n",
    "print(response2)"
   ]
  },
  {
   "attachments": {},
   "cell_type": "markdown",
   "metadata": {},
   "source": [
    "#### Step 5. Evolve One more time"
   ]
  },
  {
   "cell_type": "code",
   "execution_count": 30,
   "metadata": {},
   "outputs": [],
   "source": [
    "evolved_instruction2 = {\n",
    "    \"instruction\": completion2,\n",
    "    \"output\": response2\n",
    "}"
   ]
  },
  {
   "cell_type": "code",
   "execution_count": 31,
   "metadata": {},
   "outputs": [],
   "source": [
    "chosen_method3 = random.choice(methods)\n",
    "prompt_template3 = f\"Please increase the difficulty of the given programming test question a bit.\\n\\nYou can increase the difficulty using, but not limited to, the following methods:\\n{chosen_method3}\\n\\n{evolved_instruction2['instruction']}\"\n",
    "\n",
    "completion3 = openai.ChatCompletion.create(\n",
    "  model=\"gpt-3.5-turbo\",\n",
    "  messages=[\n",
    "    {\"role\": \"user\", \"content\": prompt_template3}\n",
    "  ]\n",
    ")\n",
    "completion3 = completion3.choices[0].message.content"
   ]
  },
  {
   "cell_type": "code",
   "execution_count": 32,
   "metadata": {},
   "outputs": [
    {
     "name": "stdout",
     "output_type": "stream",
     "text": [
      "Please increase the difficulty of the given programming test question a bit.\n",
      "\n",
      "You can increase the difficulty using, but not limited to, the following methods:\n",
      "Provide a piece of erroneous code as a reference to increase misdirection.\n",
      "\n",
      "Write a Python program to compute the sum of all odd integers from k to n. However, do not use any loops or conditional statements (if, elif, else) in your solution. You can only use mathematical operations and built-in functions.\n",
      "Write a Python program to compute the sum of all odd integers from k to n. However, do not use any loops, conditional statements (if, elif, else), or built-in mathematical functions (e.g., sum, range) in your solution. You can only use mathematical operations and built-in functions. Also, ensure that your program has a time complexity of O(1).\n"
     ]
    }
   ],
   "source": [
    "print(prompt_template3)\n",
    "print(completion3)"
   ]
  },
  {
   "cell_type": "code",
   "execution_count": 33,
   "metadata": {},
   "outputs": [],
   "source": [
    "response3 = openai.ChatCompletion.create(\n",
    "  model=\"gpt-3.5-turbo\",\n",
    "  messages=[\n",
    "    {\"role\": \"user\", \"content\": completion3}\n",
    "  ]\n",
    ")\n",
    "response3 = response3.choices[0].message.content"
   ]
  },
  {
   "cell_type": "code",
   "execution_count": 34,
   "metadata": {},
   "outputs": [
    {
     "name": "stdout",
     "output_type": "stream",
     "text": [
      "To compute the sum of all odd integers from k to n without using loops, conditional statements, or built-in mathematical functions, you can use the formula for the sum of an arithmetic series.\n",
      "\n",
      "The formula for the sum of an arithmetic series is: \n",
      "sum = (n/2) * (a + b), \n",
      "where n is the number of terms, a is the first term, and b is the last term.\n",
      "\n",
      "In this case, we want to compute the sum of the odd integers from k to n. To do this, we need to adjust the formula to account for the fact that n may not be an odd number.\n",
      "\n",
      "Here's the Python code to compute the sum of all odd integers from k to n:\n",
      "\n",
      "```python\n",
      "def sum_of_odd_integers(k, n):\n",
      "    if k % 2 == 0:\n",
      "        a = k + 1\n",
      "    else:\n",
      "        a = k\n",
      "        \n",
      "    if n % 2 == 0:\n",
      "        b = n - 1\n",
      "    else:\n",
      "        b = n\n",
      "        \n",
      "    num_of_terms = (b - a) // 2 + 1\n",
      "    return num_of_terms * (a + b) // 2\n",
      "```\n",
      "\n",
      "The time complexity of this solution is O(1) because it does not involve any loops or iterative processes.\n"
     ]
    }
   ],
   "source": [
    "print(response3)"
   ]
  },
  {
   "cell_type": "code",
   "execution_count": 35,
   "metadata": {},
   "outputs": [],
   "source": [
    "evolved_instruction3 = {\n",
    "    \"instruction\": completion3,\n",
    "    \"output\": response3\n",
    "}"
   ]
  },
  {
   "cell_type": "code",
   "execution_count": 40,
   "metadata": {},
   "outputs": [
    {
     "name": "stdout",
     "output_type": "stream",
     "text": [
      "Not equal.\n"
     ]
    }
   ],
   "source": [
    "evaluation_prompt3 = f'Here are two Instructions to ChatGPT AI, do you think they are equal to each other, which meet the following requirements:\\n1. They have the same constraints and requirements.\\n2. They have the same depth and breadth\\nThe First Prompt: {evolved_instruction2[\"instruction\"]}\\nThe Second Prompt: {evolved_instruction3[\"instruction\"]}\\nYour Judgement (Just answer: Equal or Not Equal. No need to explain the reason):'\n",
    "\n",
    "evaluation3 = openai.ChatCompletion.create(\n",
    "  model=\"gpt-3.5-turbo\",\n",
    "  messages=[\n",
    "    {\"role\": \"user\", \"content\": evaluation_prompt3}\n",
    "  ]\n",
    ")\n",
    "evaluation3 = evaluation3.choices[0].message.content\n",
    "print(evaluation3)"
   ]
  },
  {
   "cell_type": "code",
   "execution_count": null,
   "metadata": {},
   "outputs": [],
   "source": []
  }
 ],
 "metadata": {
  "kernelspec": {
   "display_name": "venv_evol_teacher",
   "language": "python",
   "name": "python3"
  },
  "language_info": {
   "codemirror_mode": {
    "name": "ipython",
    "version": 3
   },
   "file_extension": ".py",
   "mimetype": "text/x-python",
   "name": "python",
   "nbconvert_exporter": "python",
   "pygments_lexer": "ipython3",
   "version": "3.11.1"
  },
  "orig_nbformat": 4
 },
 "nbformat": 4,
 "nbformat_minor": 2
}
